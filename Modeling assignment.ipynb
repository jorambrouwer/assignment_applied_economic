{
 "cells": [
  {
   "cell_type": "markdown",
   "metadata": {},
   "source": [
    "|Name|SNR|ANR|\n",
    "|----|---|----|\n",
    "|Joram Brouwer|2108754|u157706|"
   ]
  },
  {
   "cell_type": "markdown",
   "metadata": {},
   "source": [
    "# Model: Schumpeterian model with pollution and directed technical change"
   ]
  },
  {
   "cell_type": "markdown",
   "metadata": {
    "deletable": false,
    "nbgrader": {
     "checksum": "84c7d0d85d8fb5e0073f3053f9bedf5a",
     "grade": true,
     "grade_id": "cell-8cbf4938fbebbb6e",
     "locked": false,
     "points": 0.5,
     "schema_version": 1,
     "solution": true
    }
   },
   "source": [
    "For this assignment I use a model from the economics of growth. The model is a variant of a Schumperterian growth model. It incorporates pollution and directed technical change. Schumpeterian growth models explain sustained per capita growth through innovation by entrepreneurs. In these models, entrepreneurs try to innovate to get some monopoly profits. This explains how investments in innovation are feasible. Once a entrepreneur succesfully innovates the technology level in their sector increases. This happens in all sectors and thus sustained growth can be explained.\n",
    "\n",
    "The specific model that I work with incorporates pollution. The model does this in quite a simple way by defining a certain 'stock' of maximum pollution that is possible. Once the stock runs out the economy stops functioning. The model defines output as falling to zero. The only way for the economy to avoid collapsing is if it transitions its production from the 'dirty' sector into the 'clean' sector. The clean sector does not damage the pollution budget while the dirty sector does eat away from the pollution budget.\n",
    "\n",
    "Because output falling to zero (the world ending) is undesirable the model allows for 'directed technical change'. This means that the government can put a tax on production in the dirty sector to disencourage it and move production into the clean sector. The model assumes that all production takes place in the sector with the highest marginal product of labour. As the tax rate increases, the marginal product of labour after tax in the dirty sector decreases. If the tax it high enough, the marginal product of labour in the clean sector is higher than that in the dirty sector and all production moves into the clean sector. This is quite a disruptive moment. If we assume that the technology level in the dirty sector is higher than in the clean sector (which is realistic, because otherwise all production would already take place in the clean sector without a tax) the sudden shift to the clean sector causes a shock to output.\n",
    "\n",
    "The basic Schumpeterian growth model is discussed in chapter 4 of the text book The Economics of Growth by Philippe Aghion and Peter Howitt. Chapter 16 (paragraph 16.4) features the specific model that I use in this assingment."
   ]
  },
  {
   "cell_type": "markdown",
   "metadata": {},
   "source": [
    "# Research question\n"
   ]
  },
  {
   "cell_type": "markdown",
   "metadata": {
    "deletable": false,
    "nbgrader": {
     "checksum": "b350c3082e112a5b2f1f6db0481fa5bd",
     "grade": true,
     "grade_id": "cell-7a61a5e9e6991ff4",
     "locked": false,
     "points": 0.5,
     "schema_version": 1,
     "solution": true
    }
   },
   "source": [
    "One of the purposes of the model that is used in this assignment is to show to policy makers what the implications are of environmetal taxes in the context of economic growth. The original model strongly suggests that there is a trade-off between generations when it comes to the introduction of environmental taxes. Introducing environmental taxes early on is good for future generations, but brings damage to current generations or generations in the immediate future. Introducting a tax ealier on produces a smaller shock to output than introducing it at a later stage because the sooner investments in the clean sector are made the faster is catches up to the technological levels in the dirty sector.\n",
    "\n",
    "What I want to explore in this assignment is what the policy implications are when in comes to environmental taxes when a more realistic notion of environmental damage is introduced. Instead of letting the world end in one go when a 'pollution budget' runs out, I want to model output as dependent on the quality of the environment. In this way, damage to the environment will have an immediate as well as a long run effect on 'real' output. The specfic question I want to answer is as follows:\n",
    "\n",
    "*What are the implications of a more realistic notion of environmental damage on the economy to policy makers when it comes to intergenerational conflict? Does such a notion make it easier or harder to take swift action in the realm of environmental pollution taxes?*\n"
   ]
  },
  {
   "cell_type": "markdown",
   "metadata": {},
   "source": [
    "# Motivation"
   ]
  },
  {
   "cell_type": "markdown",
   "metadata": {
    "deletable": false,
    "nbgrader": {
     "checksum": "ab93f4d26eb3e0bcf88927ee71df6b63",
     "grade": true,
     "grade_id": "cell-3d71712c92143820",
     "locked": false,
     "points": 0.5,
     "schema_version": 1,
     "solution": true
    }
   },
   "source": [
    "This question is interesting to answer because climate change and other environmental problems are in pressing need of economic solutions. Models such as the one that I will discuss, and the alteration I will make can help to make apparent why taking swift action is necesary, and what the trade-offs are. This enables policy makers to make well informed decisions."
   ]
  },
  {
   "cell_type": "markdown",
   "metadata": {},
   "source": [
    "# Preview of the answers"
   ]
  },
  {
   "cell_type": "markdown",
   "metadata": {
    "deletable": false,
    "nbgrader": {
     "checksum": "938eb25dc709a2252d7013dc1cd8176a",
     "grade": true,
     "grade_id": "cell-1b3df4385bba508d",
     "locked": false,
     "points": 0.5,
     "schema_version": 1,
     "solution": true
    }
   },
   "source": [
    "I find that the introduction of a more realistic notion of environmental damage to the economy might make it easier to take swift action in the realm of environmental taxes. In the original model, all gains of an environmental tax lie in the future. Output is much higher in the future when a tax is intituted as fast as possible and with the highest annual increase. Additionaly, the world does not end which is quite nice as well. On the other hand, all costs lie at the time when the switch to clean production is made. The drop is sharp and sudden and very significant.\n",
    "\n",
    "When the more realistic notion of 'real' output is introduced this changes. Now, much of the benefits are still in the far future. However, significant benefits are also in the coming years since the deterioration of the environment starts to have an impact on real output right away. It is now quite benefitial to take swift action, even for current generations."
   ]
  },
  {
   "cell_type": "markdown",
   "metadata": {},
   "source": [
    "# Main assumptions"
   ]
  },
  {
   "cell_type": "markdown",
   "metadata": {
    "deletable": false,
    "nbgrader": {
     "checksum": "2e95c3f2ef005a63968a0ade420f5af7",
     "grade": true,
     "grade_id": "cell-d84f19967b2baa1d",
     "locked": false,
     "points": 0.5,
     "schema_version": 1,
     "solution": true
    }
   },
   "source": [
    "The main assumptions of the original model are as follows. All labour is always employed in the most productive sector (after tax). All labour moves all at once to the sector with a higher productivity when another sector becomes relatively more productive. Innovation takes place in the active sector and is proportional to the current level of productivity. Innovation happens at an exogenously determined rate that is equal to the growth rate of the economy at large."
   ]
  },
  {
   "cell_type": "markdown",
   "metadata": {},
   "source": [
    "# Model in the paper and alterations to the original model\n"
   ]
  },
  {
   "cell_type": "markdown",
   "metadata": {
    "nbgrader": {
     "checksum": "2e95c3f2ef005a63968a0ade420f5af7",
     "grade": true,
     "grade_id": "cell-d84f19967b2baa1d",
     "locked": false,
     "points": 0.5,
     "schema_version": 1,
     "solution": true
    }
   },
   "source": [
    "To explain the model, I present only the parts of the model that are relevant to run the model and do the desired calculations. \n",
    "\n",
    "Output in the model is determined by the combined output of two sectors: the 'dirty' and 'clean' sectors. However, if the 'stock' of the polutant $S_t$ drops to zero output falls to zero aswell."
   ]
  },
  {
   "cell_type": "markdown",
   "metadata": {},
   "source": [
    "(1) $Y_t=\\begin{Bmatrix}Y_{ct}+Y_{dt}& \\textrm{if } S_t>0 \\\\ 0& \\textrm{otherwise}\\end{Bmatrix}$"
   ]
  },
  {
   "cell_type": "markdown",
   "metadata": {},
   "source": [
    "In both sectors, output is determined by how much labour is employed in that sector, the technology level in the sector, and capital's share of output $\\alpha$. In addition, output in the dirty sector is influenced by the tax level on dirty production $\\tau$."
   ]
  },
  {
   "cell_type": "markdown",
   "metadata": {},
   "source": [
    "(2) $Y_c=\\alpha^{2\\alpha/1-\\alpha}A_cL_c$\n",
    "\n",
    "(3) $Y_d=({1-\\tau})^{\\alpha/1-\\alpha}\\alpha^{2\\alpha/1-\\alpha}A_dL_d$"
   ]
  },
  {
   "cell_type": "markdown",
   "metadata": {},
   "source": [
    "The model assumes that all production takes place in the sector with the highest marginal product of labour. All labour will thus be employed in the sector with the highest productivity. This means that all production takes place in the dirty sector if:"
   ]
  },
  {
   "cell_type": "markdown",
   "metadata": {},
   "source": [
    "(4) if $({1-\\tau})^{1/1-\\alpha}A_d>A_c$ then $L_c$ = 0 and $L_d$ = $L$"
   ]
  },
  {
   "cell_type": "markdown",
   "metadata": {},
   "source": [
    "If (4) does not hold, all production takes place in the clean sector. If (4) holds $L_c$ = 0 and $L_d$ = $L$, if (4) does not hold $L_c$ = $L$ and $L_d$ = 0."
   ]
  },
  {
   "cell_type": "markdown",
   "metadata": {},
   "source": [
    "Production in the dirty sector uses up the 'stock of pollution' $S_t$. Production in the clean sector does not alter the stock of pollution. $\\phi$ is the parameter that determines how much the pollution budget is altered by production in the dirty sector. Parameter $\\omega$ determines whether the budget regenerates by itself over time (depending on the current stock of the pollution budget). We can imagine $\\omega > 0$ as the situation where nature automatically regenerates over time as long as it is not completely destroyed."
   ]
  },
  {
   "cell_type": "markdown",
   "metadata": {},
   "source": [
    "(5) $S_{t+1}=S_t-\\phi Y_{dt}+\\omega S_t$"
   ]
  },
  {
   "cell_type": "markdown",
   "metadata": {},
   "source": [
    "Since this is a Schumpeterian model, there is innovation in the active sector. That is, the level of technology in the active sector improves. $g$ is the growth rate in the economy and subsequently in the active sector because the active sector makes for all production in this model. For the purposes of this assingment, the growth rate is determined exogenously."
   ]
  },
  {
   "cell_type": "markdown",
   "metadata": {},
   "source": [
    "(6) $A_{j,t}=A_{j,t-1}+gA_{j,t-1}$ where $j$ is the active sector $d$ (dirty) or $c$ (clean)."
   ]
  },
  {
   "cell_type": "markdown",
   "metadata": {},
   "source": [
    "## Alteration to the model\n",
    "\n",
    "All the equations that have been discussed so far are copied or derived from the text book by Aghion and Howitt. For this assignment, I make some alterations. \n",
    "\n",
    "Instead of letting output fall to zero when the stock of pollutant runs out, I let output depend on output in the active sector and the stock of pollutant that is still left. This reflects the idea that 'real' output depends both on industry output and the quality of the environment. $\\beta$ reflects the degree to which industry output and the newly defined 'quality of the environment' $S_t$ contribute to 'real output' $Y_t$."
   ]
  },
  {
   "cell_type": "markdown",
   "metadata": {},
   "source": [
    "alternative to (1) $Y_t=(Y_{c,t}+Y_{d,t})^\\beta S_t^{1-\\beta}$"
   ]
  },
  {
   "cell_type": "markdown",
   "metadata": {},
   "source": [
    "# Python code\n",
    "\n"
   ]
  },
  {
   "cell_type": "markdown",
   "metadata": {},
   "source": [
    "I define functions that take the exogenous variables as arguments and return a figure showing the development of the relevant variables over time. The functions take the following arguments in this order: $A_{c,0}$, $A_{d,0}$, $S_0$, $T_0$, $p$, $tax_0$, $tax_\\delta$, $L$, $g$, $\\alpha$, $\\phi$, $\\omega$. $A_{c,0}$ is the starting level of technology in the clean sector. $A_{d,0}$ is the starting level of technology in the dirty sector. $S_0$ is the 'stock' of pollutant that the economy is allowed to emit before the economy grinds to a sudden stop. $T_0$ is the starting year of the simulation. $p$ is the desired number of simulated periods (years). $tax_0$ is the starting tax level applied to production in the dirty sector (between 0 and 1). $tax_\\delta$ is the increase of the tax per period. $L$ is the total size of the labour force. $g$ is the exogenously determined growth rate of the technology level in the active sector, and thus this is also the growth rate of the entire economy. $\\alpha$ is capital's share of output. $\\phi$ determines the degree to which production in the dirty sector eats away from the pollution budget. $\\omega$ determines how much the stock of pollutant regenerates by itself."
   ]
  },
  {
   "cell_type": "markdown",
   "metadata": {
    "tags": []
   },
   "source": [
    "## Code for original model\n",
    "\n",
    "First I implement the original model. The general approach is to generate a pandas dataframe in which the variables of interest are columns. Then the periods are simulated using a for loop. I try to explain all the pieces of code of which it is not immediatly obvious what it does."
   ]
  },
  {
   "cell_type": "code",
   "execution_count": 24,
   "metadata": {
    "deletable": false,
    "nbgrader": {
     "checksum": "3dd4c02198f7b81f943268cb3d0a12b2",
     "grade": true,
     "grade_id": "cell-a2231ee7e6d4e686",
     "locked": false,
     "points": 7,
     "schema_version": 1,
     "solution": true
    }
   },
   "outputs": [],
   "source": [
    "import numpy as np # Importing the numpy package to generate matrix with only zeros, among other things\n",
    "import pandas as pd # Importing pandas packages to generate and manage the data frame to store the variables and simulate the model\n",
    "import matplotlib.pyplot as plt # Importing matplotlib to generate plots to visualize the model simulations\n",
    "\n",
    "def model1(Ac0, Ad0, S0, T0, p, tax0, tax_delta, L, g, alpha, phi, omega): # Defining a function that takes the exogenous variables and parameters as arguments \n",
    "    df = pd.DataFrame(np.zeros((p, 8)), columns=['T','Ad', 'Ac', 'tax', 'Yd', 'Yc', 'Y', 'S']) # Using numpy to generate matrix with only zeros, using pandas to turn it into a data frame with correct column names. \n",
    "    df.at[0, 'T'] = T0 # Setting starting values for time, technology levels, tax level, output levels.\n",
    "    df.at[0, 'Ad'] = Ad0\n",
    "    df.at[0, 'Ac'] = Ac0\n",
    "    df.at[0, 'tax'] = tax0\n",
    "    if ((1-tax0)**(1/(1-alpha)))*Ad0 > Ac0: # Making sure that all production takes place in the sector with the highest productivity after tax. Do not have to alter other sectors output because initial matrix contains only zeros.\n",
    "         df.at[0, 'Yd'] = alpha**((2*alpha)/(1-alpha))*Ad0*L\n",
    "    else:\n",
    "         df.at[0, 'Yc'] = alpha**((2*alpha)/(1-alpha))*Ac0*L\n",
    "    df.at[0, 'Y'] = df.at[0, 'Yd'] + df.at[0, 'Yc'] # Total production equals sum of production in the two sectors.\n",
    "    df.at[0, 'S'] = S0 # Setting initial 'budget' of pollution.\n",
    "    \n",
    "    for t in range(1, p): # Running the model. Using a for loop to loop over the range of number of desired periods.\n",
    "        df.at[t, 'T'] = df.at[t - 1, 'T'] + 1 # Time goes up by one every year.\n",
    "        if df.at[t - 1, 'tax'] < 1 and df.at[t - 1, 'tax'] + tax_delta < 1: # Tax level goes up by the defined tax_delta, but only when the tax level is not already at 100 percent or would pass 100 percent with the delta_tax.\n",
    "            df.at[t, 'tax'] = df.at[t - 1, 'tax'] + tax_delta\n",
    "        else:\n",
    "            df.at[t, 'tax'] = 1 # So, else the tax will stay at 100 percent or become 100 percent (to make sure it does not become more than 100 percent)\n",
    "        if df.at[t - 1, 'Yd'] > 0: # Innovation takes place in the active sector. Technology level increases with the growth rate.\n",
    "            df.at[t, 'Ad'] = df.at[t - 1, 'Ad'] + g*df.at[t - 1, 'Ad']\n",
    "            df.at[t, 'Ac'] = df.at[t - 1, 'Ac']\n",
    "        else:\n",
    "            df.at[t, 'Ac'] = df.at[t - 1, 'Ac'] + g*df.at[t - 1, 'Ac']\n",
    "            df.at[t, 'Ad'] = df.at[t - 1, 'Ad']\n",
    "        if ((1-df.at[t, 'tax'])**(1/(1-alpha)))*df.at[t, 'Ad'] > df.at[t, 'Ac']: # Again, making sure that all production takes place in the active sector. Other sector's output stays or becomes zero which is so by default because of initial matrix.\n",
    "            df.at[t, 'Yd'] = alpha**((2*alpha)/(1-alpha))*df.at[t, 'Ad']*L\n",
    "        else:\n",
    "            df.at[t, 'Yc'] = alpha**((2*alpha)/(1-alpha))*df.at[t, 'Ac']*L\n",
    "        df.at[t, 'S'] = df.at[t - 1, 'S'] - phi*df.at[t - 1, 'Yd'] + omega*df.at[t - 1, 'S']\n",
    "        if df.at[t, 'S'] > 0: # Calculating total output, but only if the pollution budget has not yet been used up. \n",
    "            df.at[t, 'Y'] = df.at[t, 'Yd'] + df.at[t, 'Yc']\n",
    "        else:\n",
    "            df.at[t, 'Y'] = 0 # If the pollution budget is used up, the world ends and output, technology, and pollution budget become zero. The dynamics of the model make sure that all of these stay at zero for the rest of eternity.\n",
    "            df.at[t, 'Ad'] = 0\n",
    "            df.at[t, 'Ac'] = 0\n",
    "            df.at[t, 'S'] = 0\n",
    "        \n",
    "    x = df['T'] # Creating some variables to store the columns that are used to generate a plot.\n",
    "    y1 = df['Y']\n",
    "    y2 = df['Ad']\n",
    "    y3 = df['Ac']\n",
    "    y4 = df['S']\n",
    "    \n",
    "    plt.plot(x, y1, label='$Y$') # Genernating a plot with time on the x-axis and the other relevant variables on the y-axis.\n",
    "    plt.plot(x, y2, label='$A_d$')\n",
    "    plt.plot(x, y3, label='$A_c$')\n",
    "    plt.plot(x, y4, label='$S$')\n",
    "    plt.legend() # Adding a legend.\n",
    "    plt.show() # Showing the plot\n",
    "    "
   ]
  },
  {
   "cell_type": "markdown",
   "metadata": {},
   "source": [
    "## Running the original model"
   ]
  },
  {
   "cell_type": "markdown",
   "metadata": {},
   "source": [
    "Now that the original model is implemented it is possible to see how it runs using different starting values. Since it is very hard to estimate 'realistic' values for some of the parameters and starting values in the model, the values I do choose should not be taken too seriously. The most important goal of this assignment is to see the general dynamics of the model play out, and see how these dynamics are altered when I implement the announced alterations later on.\n",
    "\n",
    "As for the technology levels, I choose to take values of 1 and 2 to reflect the idea that initially the technology level in the dirty sector is higher than that of the clean sector. If this were not the case there would be no production in the dirty sector in the first place and there would be no issue. The stock of pollution is set rather arbitrarily at 1. This mostly makes sure that the dynamics of the model happen in a way such that the plot will give some interesting insights and illustrate the dynamics of the model. The starting time is set at the start of our century, and the amount of periods at 100 years. The tax level starts at zero, and builds up at different rates in the different runs of the model. The total labour supply is set at 1. The value for $\\alpha$ (capital's share of output) is set at 0.3, as is often seen as a good approximation of real world $\\alpha$. $\\phi$ is set at 0.01 so that the stock of pollution slowly deteriorates, and $\\omega$ is set at 0 such that nature does not regenerate by itself.\n",
    "\n",
    "| Argument     |First run      |Second run| Third run|    \n",
    "|----------    |---------------|----------|----------|\n",
    "| $A_{c,0}$    | 1             |1         |1         |\n",
    "| $A_{d,0}$    | 2             |2         |2         |     \n",
    "| $S_0$        | 1             |1         |1         |       \n",
    "| $T_0$        | 2000          |2000      |2000      |      \n",
    "| $p$          | 100           |100       |100       |\n",
    "| $tax_0$      | 0             |0         |0         |\n",
    "| $tax_\\delta$ | **0**         |**0.02**  |**0.05**  |\n",
    "| $L$          | 1             |1         |1         |\n",
    "| $g$          | 0.03          |0.03      |0.03      |\n",
    "| $\\alpha$     | 0.3           |0.3       |0.3       |\n",
    "| $\\phi$       | 0.01          |0.01      |0.01      |\n",
    "| $\\omega$     | 0             |0         |0         |"
   ]
  },
  {
   "cell_type": "markdown",
   "metadata": {},
   "source": [
    "**First run of the original model**"
   ]
  },
  {
   "cell_type": "code",
   "execution_count": 42,
   "metadata": {},
   "outputs": [
    {
     "data": {
      "image/png": "[encoded data removed]",
      "text/plain": [
       "<Figure size 432x288 with 1 Axes>"
      ]
     },
     "metadata": {
      "needs_background": "light"
     },
     "output_type": "display_data"
    }
   ],
   "source": [
    "model1(1, 2, 1, 2000, 100, 0, 0, 1, 0.03, 0.3, 0.01, 0)"
   ]
  },
  {
   "cell_type": "markdown",
   "metadata": {
    "tags": []
   },
   "source": [
    "The first run of this model illustrates what happens when there is no tax applied to the pollution. Technology in the dirty sector increases exponentially if it started with a higher value than technology in the clean sector. Output also grows exponentially. However, at some point the pollution budget runs out and the world ends. All variables crash to zero."
   ]
  },
  {
   "cell_type": "markdown",
   "metadata": {},
   "source": [
    "**Second run of the original model**"
   ]
  },
  {
   "cell_type": "code",
   "execution_count": 43,
   "metadata": {},
   "outputs": [
    {
     "data": {
      "image/png": "[encoded data removed]",
      "text/plain": [
       "<Figure size 432x288 with 1 Axes>"
      ]
     },
     "metadata": {
      "needs_background": "light"
     },
     "output_type": "display_data"
    }
   ],
   "source": [
    "model1(1, 2, 1, 2000, 100, 0, 0.02, 1, 0.03, 0.3, 0.01, 0)"
   ]
  },
  {
   "cell_type": "markdown",
   "metadata": {},
   "source": [
    "The second run illustrates the case where the government introduces a tax that increases over time. Again, technology in the dirty sector and output grow exponentially. However, at some point the tax on dirty production lowers the productivity of labour in the dirty sector so much that all production moves into the clean sector. At this point output is drastically lowered because of the lower level of technology in this sector. However, over time technology in the clean sector and output start growing again. More importantly, the end of the world did not come in this run of the model because the switch to clean production was made in time. "
   ]
  },
  {
   "cell_type": "markdown",
   "metadata": {},
   "source": [
    "**Third run of the original model**"
   ]
  },
  {
   "cell_type": "code",
   "execution_count": 44,
   "metadata": {},
   "outputs": [
    {
     "data": {
      "image/png": "[encoded data removed]",
      "text/plain": [
       "<Figure size 432x288 with 1 Axes>"
      ]
     },
     "metadata": {
      "needs_background": "light"
     },
     "output_type": "display_data"
    }
   ],
   "source": [
    "model1(1, 2, 1, 2000, 100, 0, 0.05, 1, 0.03, 0.3, 0.01, 0)"
   ]
  },
  {
   "cell_type": "markdown",
   "metadata": {},
   "source": [
    "The third run illustrates the case with a higher increase of the tax rate. The switch to clean production now comes much earlier in time. The benefit of this run is that output further in the future (say around 2100) is much higher than it were in the case with a lower tax rate. To maximize output in the future it is thus benefitial to choose a tax rate that increases at a fast rate. However, this comes at the cost of a crash in output that comes very fast."
   ]
  },
  {
   "cell_type": "markdown",
   "metadata": {},
   "source": [
    "## Code for model with first alteration"
   ]
  },
  {
   "cell_type": "markdown",
   "metadata": {},
   "source": [
    "Now I present the code where I implement the alteration. In this model, output will depend on the output in the two sectors, and it will depend on the quality of the environment (instead of the deterioration of the the environment crashing the economy all at once as in the original model). The basic ideas behind the code stay the same."
   ]
  },
  {
   "cell_type": "code",
   "execution_count": 48,
   "metadata": {},
   "outputs": [],
   "source": [
    "import numpy as np # Importing the numpy package to generate matrix with only zeros, among other things\n",
    "import pandas as pd # Importing pandas packages to generate and manage the data frame to store the variables and simulate the model\n",
    "import matplotlib.pyplot as plt # Importing matplotlib to generate plots to visualize the model simulations\n",
    "\n",
    "def model2(Ac0, Ad0, S0, T0, p, tax0, tax_delta, L, g, alpha, phi, omega): # Defining a function that takes the exogenous variables and parameters as arguments \n",
    "    df = pd.DataFrame(np.zeros((p, 8)), columns=['T','Ad', 'Ac', 'tax', 'Yd', 'Yc', 'Y', 'S']) # Using numpy to generate matrix with only zeros, using pandas to turn it into a data frame with correct column names. \n",
    "    df.at[0, 'T'] = T0 # Setting starting values for time, technology levels, tax level, output levels.\n",
    "    df.at[0, 'Ad'] = Ad0\n",
    "    df.at[0, 'Ac'] = Ac0\n",
    "    df.at[0, 'tax'] = tax0\n",
    "    if ((1-tax0)**(1/(1-alpha)))*Ad0 > Ac0: # Making sure that all production takes place in the sector with the highest productivity after tax. Do not have to alter other sectors output because initial matrix contains only zeros.\n",
    "         df.at[0, 'Yd'] = alpha**((2*alpha)/(1-alpha))*Ad0*L\n",
    "    else:\n",
    "         df.at[0, 'Yc'] = alpha**((2*alpha)/(1-alpha))*Ac0*L\n",
    "    df.at[0, 'S'] = S0 # Setting initial 'budget' of pollution. This still works the same as in the original model.\n",
    "    df.at[0, 'Y'] = (df.at[0, 'Yd'] + df.at[0, 'Yc'])*df.at[0, 'S'] # Total production equals sum of production in the two sectors times the 'quality of the environment' S.\n",
    "    \n",
    "    for t in range(1, p): # Running the model. Using a for loop to loop over the range of number of desired periods.\n",
    "        df.at[t, 'T'] = df.at[t - 1, 'T'] + 1 # Time goes up by one every year.\n",
    "        if df.at[t - 1, 'tax'] < 1 and df.at[t - 1, 'tax'] + tax_delta < 1: # Tax level goes up by the defined tax_delta, but only when the tax level is not already at 100 percent or would pass 100 percent with the delta_tax.\n",
    "            df.at[t, 'tax'] = df.at[t - 1, 'tax'] + tax_delta\n",
    "        else:\n",
    "            df.at[t, 'tax'] = 1 # So, else the tax will stay at 100 percent or become 100 percent (to make sure it does not become more than 100 percent)\n",
    "        if df.at[t - 1, 'Yd'] > 0: # Innovation takes place in the active sector. Technology level increases with the growth rate.\n",
    "            df.at[t, 'Ad'] = df.at[t - 1, 'Ad'] + g*df.at[t - 1, 'Ad']\n",
    "            df.at[t, 'Ac'] = df.at[t - 1, 'Ac']\n",
    "        else:\n",
    "            df.at[t, 'Ac'] = df.at[t - 1, 'Ac'] + g*df.at[t - 1, 'Ac']\n",
    "            df.at[t, 'Ad'] = df.at[t - 1, 'Ad']\n",
    "        if ((1-df.at[t, 'tax'])**(1/(1-alpha)))*df.at[t, 'Ad'] > df.at[t, 'Ac']: # Again, making sure that all production takes place in the active sector. Other sector's output stays or becomes zero which is so by default because of initial matrix.\n",
    "            df.at[t, 'Yd'] = alpha**((2*alpha)/(1-alpha))*df.at[t, 'Ad']*L\n",
    "        else:\n",
    "            df.at[t, 'Yc'] = alpha**((2*alpha)/(1-alpha))*df.at[t, 'Ac']*L\n",
    "        df.at[t, 'S'] = df.at[t - 1, 'S'] - phi*df.at[t - 1, 'Yd'] + omega*df.at[t - 1, 'S']\n",
    "        if df.at[t, 'S'] > 0: # Calculating total output, but only if the pollution budget has not yet been used up. \n",
    "            df.at[t, 'Y'] = (df.at[t, 'Yd'] + df.at[t, 'Yc'])*df.at[t, 'S'] # However, in this new model the environment is used in the formula to calculate total output.\n",
    "        else:\n",
    "            df.at[t, 'Y'] = 0 # Still, if the pollution budget is used up, the world ends and output, technology, and pollution budget become zero. The dynamics of the model make sure that all of these stay at zero for the rest of eternity.\n",
    "            df.at[t, 'Ad'] = 0\n",
    "            df.at[t, 'Ac'] = 0\n",
    "            df.at[t, 'S'] = 0\n",
    "        \n",
    "    x = df['T'] # Creating some variables to store the columns that are used to generate a plot.\n",
    "    y1 = df['Y']\n",
    "    y2 = df['Ad']\n",
    "    y3 = df['Ac']\n",
    "    y4 = df['S']\n",
    "    \n",
    "    plt.plot(x, y1, label='$Y$') # Genernating a plot with time on the x-axis and the other relevant variables on the y-axis.\n",
    "    plt.plot(x, y2, label='$A_d$')\n",
    "    plt.plot(x, y3, label='$A_c$')\n",
    "    plt.plot(x, y4, label='$S$')\n",
    "    plt.legend() # Adding a legend.\n",
    "    plt.show() # Showing the plot"
   ]
  },
  {
   "cell_type": "markdown",
   "metadata": {},
   "source": [
    "## Running the model with alteration"
   ]
  },
  {
   "cell_type": "markdown",
   "metadata": {},
   "source": [
    "Now that the model with the alteration is implemented we can run it. I run it with the exact same paramaters and starting values as the first model."
   ]
  },
  {
   "cell_type": "markdown",
   "metadata": {},
   "source": [
    "**First run of model with alteration**"
   ]
  },
  {
   "cell_type": "code",
   "execution_count": 49,
   "metadata": {},
   "outputs": [
    {
     "data": {
      "image/png": "[encoded data removed]",
      "text/plain": [
       "<Figure size 432x288 with 1 Axes>"
      ]
     },
     "metadata": {
      "needs_background": "light"
     },
     "output_type": "display_data"
    }
   ],
   "source": [
    "model2(1, 2, 1, 2000, 100, 0, 0, 1, 0.03, 0.3, 0.01, 0)"
   ]
  },
  {
   "cell_type": "markdown",
   "metadata": {},
   "source": [
    "Again, the first run of the model is without any tax. The 'apocalypse' still happens like in the original model. However, the level of output does not increase exponentially like in the first model. This time, output does go up at first, but at some point the benefits from innovation do not outweigh the damage done to the 'real' economy by the pollution anymore. After that, output crashes down over some years ending at zero again. It is clear that people in this world would be more motivated to introduce environmental taxes than in the original model. There are still some gains to output in the immediate future, but these gains are not exponential and take only some years. This run of the model exemplifies a society with very high levels of technology but very low levels of environmental quality."
   ]
  },
  {
   "cell_type": "markdown",
   "metadata": {},
   "source": [
    "**Second run of model with alteration**"
   ]
  },
  {
   "cell_type": "code",
   "execution_count": 50,
   "metadata": {},
   "outputs": [
    {
     "data": {
      "image/png": "[encoded data removed]",
      "text/plain": [
       "<Figure size 432x288 with 1 Axes>"
      ]
     },
     "metadata": {
      "needs_background": "light"
     },
     "output_type": "display_data"
    }
   ],
   "source": [
    "model2(1, 2, 1, 2000, 100, 0, 0.02, 1, 0.03, 0.3, 0.01, 0)"
   ]
  },
  {
   "cell_type": "markdown",
   "metadata": {},
   "source": [
    "The second run of the model shows what happens when a modest tax increase is chosen. Still, the drop to output at the time of the transition is very significant, but smaller than in the original model (because the 'real' economy has already been damaged by the reduced quality of the environment at that point)."
   ]
  },
  {
   "cell_type": "markdown",
   "metadata": {},
   "source": [
    "**Third run of model with alteration**"
   ]
  },
  {
   "cell_type": "code",
   "execution_count": 51,
   "metadata": {},
   "outputs": [
    {
     "data": {
      "image/png": "[encoded data removed]",
      "text/plain": [
       "<Figure size 432x288 with 1 Axes>"
      ]
     },
     "metadata": {
      "needs_background": "light"
     },
     "output_type": "display_data"
    }
   ],
   "source": [
    "model2(1, 2, 1, 2000, 100, 0, 0.05, 1, 0.03, 0.3, 0.01, 0)"
   ]
  },
  {
   "cell_type": "markdown",
   "metadata": {},
   "source": [
    "This last run with a high increase of the tax rate is very similar to the last run of the original model. The shock to output comes very soon, but in the long run output rises high. However, since the alternative of not introducing a tax is quite gloomy in this model, people in this model are more motivated to introduce a serious environmental tax rate than those in the original model."
   ]
  },
  {
   "cell_type": "markdown",
   "metadata": {},
   "source": [
    "# Discussion and conclusion"
   ]
  },
  {
   "cell_type": "markdown",
   "metadata": {},
   "source": [
    "The main conclusion of this assingment is that the introduction of the more realistic notion of environmental damage to the economy makes it a bit easier for policy makers to introduce swiftly increasing environmental taxes. In the original model, all costs of the tax lie in the present, while the most valuable gains lie in the far future."
   ]
  },
  {
   "cell_type": "markdown",
   "metadata": {
    "deletable": false,
    "nbgrader": {
     "checksum": "52e1cf5783dd1971d265a8ea172e297a",
     "grade": true,
     "grade_id": "cell-4b5c9f698b295ad7",
     "locked": false,
     "points": 0.5,
     "schema_version": 1,
     "solution": true
    }
   },
   "source": [
    "Some glaring limitions of this assingments are as follows. Since I did not use real data or realistic assumptions I can only make qualitative claims about the data. I can say that action if more justified with the new model, but not what the optimal tax would be. To fix this, it would be necesary to have estimates for technology in the 'clean' and 'dirty' sector, which would depend on the environmental issue that is discussed. But even then, it is fundamentally hard to give an estimation of these parameters because by definition the technology of a sector that is not active right now is unmeasurable. Technology levels in the economy as a whole can be estimated using growth accounting methods, but this is hard for an individual sector, even more so when this sector does not exist or is not active yet."
   ]
  },
  {
   "cell_type": "code",
   "execution_count": null,
   "metadata": {},
   "outputs": [],
   "source": []
  }
 ],
 "metadata": {
  "kernelspec": {
   "display_name": "Python 3 (ipykernel)",
   "language": "python",
   "name": "python3"
  },
  "language_info": {
   "codemirror_mode": {
    "name": "ipython",
    "version": 3
   },
   "file_extension": ".py",
   "mimetype": "text/x-python",
   "name": "python",
   "nbconvert_exporter": "python",
   "pygments_lexer": "ipython3",
   "version": "3.9.7"
  },
  "toc": {
   "base_numbering": 1,
   "nav_menu": {},
   "number_sections": true,
   "sideBar": true,
   "skip_h1_title": false,
   "title_cell": "Table of Contents",
   "title_sidebar": "Contents",
   "toc_cell": false,
   "toc_position": {},
   "toc_section_display": true,
   "toc_window_display": true
  }
 },
 "nbformat": 4,
 "nbformat_minor": 4
}
